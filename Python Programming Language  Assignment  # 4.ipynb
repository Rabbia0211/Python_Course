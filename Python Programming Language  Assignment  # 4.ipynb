{
 "cells": [
  {
   "cell_type": "code",
   "execution_count": 6,
   "metadata": {},
   "outputs": [
    {
     "name": "stdout",
     "output_type": "stream",
     "text": [
      "Mariyam\n",
      "M.Iqbal\n",
      "25\n",
      "{'First Name': 'Mariyam', 'Last Name': 'M.Iqbal', 'Age': '25', 'Qualification': 'Intermediate'}\n",
      "{'First Name': 'Mariyam', 'Last Name': 'M.Iqbal', 'Age': '25', 'Qualification': 'Graduate'}\n",
      "{'First Name': 'Mariyam', 'Last Name': 'M.Iqbal', 'Age': '25'}\n"
     ]
    }
   ],
   "source": [
    "data = {\n",
    "    \"First Name\" : \"Mariyam\",\n",
    "    \"Last Name\" : \"M.Iqbal\",\n",
    "    \"Age\" : \"25\"\n",
    "}\n",
    "print(data['First Name'])\n",
    "print(data['Last Name'])\n",
    "print(data['Age'])\n",
    "data['Qualification'] = 'Intermediate'\n",
    "print(data)\n",
    "data_new = {'Qualification' : 'Graduate'}\n",
    "data.update(data_new)\n",
    "print(data)\n",
    "del data['Qualification']\n",
    "print(data)"
   ]
  },
  {
   "cell_type": "code",
   "execution_count": 7,
   "metadata": {},
   "outputs": [
    {
     "name": "stdout",
     "output_type": "stream",
     "text": [
      "Mariyam\n",
      "M.Iqbal\n",
      "25\n",
      "{'First Name': 'Mariyam', 'Last Name': 'M.Iqbal', 'Age': '25', 'Qualification': 'Intermediate'}\n",
      "{'First Name': 'Mariyam', 'Last Name': 'M.Iqbal', 'Age': '25', 'Qualification': 'Graduate'}\n",
      "{'First Name': 'Mariyam', 'Last Name': 'M.Iqbal', 'Age': '25'}\n"
     ]
    }
   ],
   "source": [
    "data = {\n",
    "    \"First Name\" : \"Mariyam\",\n",
    "    \"Last Name\" : \"M.Iqbal\",\n",
    "    \"Age\" : \"25\"\n",
    "}\n",
    "print(data['First Name'])\n",
    "print(data['Last Name'])\n",
    "print(data['Age'])\n",
    "data['Qualification'] = 'Intermediate'\n",
    "print(data)\n",
    "data['Qualification'] = 'Graduate'\n",
    "print(data)\n",
    "del data['Qualification']\n",
    "print(data)"
   ]
  },
  {
   "cell_type": "code",
   "execution_count": 8,
   "metadata": {},
   "outputs": [
    {
     "name": "stdout",
     "output_type": "stream",
     "text": [
      "\n",
      "Karachi is in Pakistan.\n",
      "It has a population of about 14.91 Million.\n",
      "The Dating back to the ancient Greek time, Karachi was named Krokola under Alexander Krokola. Yes, so ancient! It later changed to Debal by Muhammad Bin Qasim and Arabs.\n",
      "\n",
      "Los Angeles is in California.\n",
      "It has a population of about 4 Million.\n",
      "The In the late 19th century, after hundreds of years of isolation, Seoul opened its gates to foreigners and began to modernize.\n",
      "\n",
      "Seoul is in South Korea.\n",
      "It has a population of about 9.776 Million.\n",
      "The It is the largest and most populous city in the state of California and the cultural, financial, and commercial center of Southern California.\n"
     ]
    }
   ],
   "source": [
    "cities = {\n",
    "    'Karachi' : {\n",
    "        'Country' : 'Pakistan',\n",
    "        'Population' : '14.91 Million',\n",
    "        'Facts' : 'Dating back to the ancient Greek time, Karachi was named Krokola under Alexander Krokola. Yes, so ancient! It later changed to Debal by Muhammad Bin Qasim and Arabs.'\n",
    "    },\n",
    "    'Los Angeles' : {\n",
    "        'Country' : 'California',\n",
    "        'Population' : '4 Million',\n",
    "        'Facts' : 'In the late 19th century, after hundreds of years of isolation, Seoul opened its gates to foreigners and began to modernize.'\n",
    "    },\n",
    "    'Seoul' : {\n",
    "        'Country' : 'South Korea',\n",
    "        'Population' : '9.776 Million',\n",
    "        'Facts' : 'It is the largest and most populous city in the state of California and the cultural, financial, and commercial center of Southern California.'\n",
    "    }\n",
    "}\n",
    "\n",
    "\n",
    "for city, info in cities.items():\n",
    "    Country = info['Country']\n",
    "    Population = info['Population']\n",
    "    Facts = info['Facts']\n",
    "\n",
    "    print(\"\\n\" + city + \" is in \" + Country + \".\")\n",
    "    print(\"It has a population of about \" + str(Population) + \".\")\n",
    "    print(\"The \" + Facts )"
   ]
  },
  {
   "cell_type": "code",
   "execution_count": 9,
   "metadata": {},
   "outputs": [
    {
     "name": "stdout",
     "output_type": "stream",
     "text": [
      "How old are you? 5\n",
      "Pay $10 for your free.\n"
     ]
    }
   ],
   "source": [
    "Person_age = input(\"How old are you? \")\n",
    "Person_age = int(Person_age)\n",
    "\n",
    "if Person_age < 3:\n",
    "    print(\"Ticket is free for child.\")\n",
    "elif Person_age < 12:\n",
    "    print(\"Pay $10 for your free.\")\n",
    "else:\n",
    "    print(\"Pay $15 for your free.\")"
   ]
  },
  {
   "cell_type": "code",
   "execution_count": null,
   "metadata": {},
   "outputs": [
    {
     "name": "stdout",
     "output_type": "stream",
     "text": [
      "How old are you? \n",
      "Enter 'Done' When you done buying. \n",
      "12\n",
      "Ticket is free for child.\n",
      "How old are you? \n",
      "Enter 'Done' When you done buying. \n",
      "55\n",
      "Pay $15 for your ticket.\n",
      "How old are you? \n",
      "Enter 'Done' When you done buying. \n",
      "70\n",
      "Pay $15 for your ticket.\n",
      "How old are you? \n",
      "Enter 'Done' When you done buying. \n",
      "2\n",
      "Ticket is free for child.\n",
      "How old are you? \n",
      "Enter 'Done' When you done buying. \n"
     ]
    }
   ],
   "source": [
    "while True:        \n",
    "    print(\"How old are you? \")\n",
    "    print(\"Enter 'Done' When you done buying. \")\n",
    "    Person_age = input()\n",
    "    if Person_age == 'Done':\n",
    "        break\n",
    "    Person_age = (Person_age)\n",
    "    if Person_age < '3':\n",
    "        print(\"Ticket is free for child.\")\n",
    "    elif Person_age < '12':\n",
    "        print(\"Pay $10 for your ticket.\")\n",
    "    else:\n",
    "        print(\"Pay $15 for your ticket.\")"
   ]
  },
  {
   "cell_type": "code",
   "execution_count": 1,
   "metadata": {},
   "outputs": [
    {
     "name": "stdout",
     "output_type": "stream",
     "text": [
      "One of my favorite books is To kill a mockingbird\n",
      "\n"
     ]
    }
   ],
   "source": [
    "def favorite_book(title):\n",
    "    print(\"One of my favorite books is \" + title + \"\\n\" )\n",
    "\n",
    "favorite_book('To kill a mockingbird')"
   ]
  },
  {
   "cell_type": "code",
   "execution_count": 12,
   "metadata": {},
   "outputs": [
    {
     "name": "stdout",
     "output_type": "stream",
     "text": [
      "Hello, What's your name?Rabbia\n",
      "Rabbia Guessing a number in range 1 and 30:\n",
      "2\n",
      "Guess Higher value.\n",
      "9\n",
      "Guess Higher value.\n",
      "15\n",
      "Guess Higher value.\n",
      "Your guessed number is wrong, The number was 30\n"
     ]
    }
   ],
   "source": [
    "import random\n",
    "num = random.randint(1, 30)\n",
    "\n",
    "name= input(\"Hello, What's your name?\")\n",
    "guess_num= 0\n",
    "print(name+ ' Guessing a number in range 1 and 30:')\n",
    "\n",
    "while guess_num< 3:\n",
    "    guess = int(input())\n",
    "    guess_num+= 1\n",
    "    if guess < num:\n",
    "        print('Guess Higher value.')\n",
    "    if guess > num:\n",
    "        print('Guess lower value.')\n",
    "    if guess == num:\n",
    "        break\n",
    "if guess == num:\n",
    "    print('Your guessed number is' + str(guess_num) + ' tries!')\n",
    "else:\n",
    "    print('Your guessed number is wrong, The number was ' + str(num))\n"
   ]
  }
 ],
 "metadata": {
  "kernelspec": {
   "display_name": "Python 3",
   "language": "python",
   "name": "python3"
  },
  "language_info": {
   "codemirror_mode": {
    "name": "ipython",
    "version": 3
   },
   "file_extension": ".py",
   "mimetype": "text/x-python",
   "name": "python",
   "nbconvert_exporter": "python",
   "pygments_lexer": "ipython3",
   "version": "3.7.4"
  }
 },
 "nbformat": 4,
 "nbformat_minor": 2
}
