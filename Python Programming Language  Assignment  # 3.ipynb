{
 "cells": [
  {
   "cell_type": "code",
   "execution_count": 6,
   "metadata": {},
   "outputs": [
    {
     "name": "stdout",
     "output_type": "stream",
     "text": [
      "Please select operation \n",
      "1. Add\n",
      "2. Subtract\n",
      "3. Multiply\n",
      "4. Divide\n",
      "5. Power\n",
      "\n",
      "Select operations form 1, 2, 3, 4, 5 :4\n",
      "Enter first number: 8\n",
      "Enter second number: 3\n",
      "8 / 3 = 2.6666666666666665\n"
     ]
    }
   ],
   "source": [
    "#Simple calculator program\n",
    "print(\"Please select operation \\n\" \n",
    "        \"1. Add\\n\" \n",
    "        \"2. Subtract\\n\" \n",
    "        \"3. Multiply\\n\" \n",
    "        \"4. Divide\\n\"\n",
    "        \"5. Power\\n\") \n",
    "select = int(input(\"Select operations form 1, 2, 3, 4, 5 :\")) \n",
    "if (select>=1 and select<=5):\n",
    "    number_1 = int(input(\"Enter first number: \")) \n",
    "    number_2 = int(input(\"Enter second number: \")) \n",
    "    if select == 1:\n",
    "        add = number_1 + number_2\n",
    "        print(number_1, \"+\", number_2, \"=\", add) \n",
    "    elif select == 2: \n",
    "        sub = number_1 - number_2\n",
    "        print(number_1, \"-\", number_2, \"=\", sub)\n",
    "    elif select == 3: \n",
    "        mul = number_1 * number_2\n",
    "        print(number_1, \"*\", number_2, \"=\", mul) \n",
    "    elif select == 4: \n",
    "        div = number_1 / number_2\n",
    "        print(number_1, \"/\", number_2, \"=\", div)\n",
    "    elif select == 5: \n",
    "        power = number_1 ** number_2\n",
    "        print(number_1, \"/\", number_2, \"=\", power)\n",
    "    else: \n",
    "        print(\"Invalid input\")"
   ]
  },
  {
   "cell_type": "code",
   "execution_count": 9,
   "metadata": {},
   "outputs": [
    {
     "name": "stdout",
     "output_type": "stream",
     "text": [
      "['1', '3', '6', '7', '9']\n"
     ]
    }
   ],
   "source": [
    "list_val= ['1', '3', '6', 'a', 'j', '7', 'i', 'g', '9', 'j']\n",
    "mynewlist = [s for s in list_val if s.isdigit()]\n",
    "print(mynewlist)"
   ]
  },
  {
   "cell_type": "code",
   "execution_count": 11,
   "metadata": {},
   "outputs": [
    {
     "name": "stdout",
     "output_type": "stream",
     "text": [
      "{'First Name': 'Rabbia', 'Father Name': 'Anwar Ahmed', 'D.O.B': '02-November-1996', 'Address': 'Azam Nagar Liaquatabad Karachi.'}\n",
      "{'First Name': 'Rabbia', 'Father Name': 'Anwar Ahmed', 'D.O.B': '02-November-1996', 'Address': 'Azam Nagar Liaquatabad Karachi.', 'N.I.C': '42101-3457650-0'}\n"
     ]
    }
   ],
   "source": [
    "my_data = {\n",
    "    \"First Name\" : \"Rabbia\",\n",
    "    \"Father Name\" : \"Anwar Ahmed\",\n",
    "    \"D.O.B\" : \"02-November-1996\",\n",
    "    \"Address\" : \"Azam Nagar Liaquatabad Karachi.\"\n",
    "}\n",
    "print(my_data)\n",
    "my_data[\"N.I.C\"] ='42101-3457650-0'\n",
    "print(my_data)"
   ]
  },
  {
   "cell_type": "code",
   "execution_count": 14,
   "metadata": {},
   "outputs": [
    {
     "name": "stdout",
     "output_type": "stream",
     "text": [
      "{'A': 2, 'B ': 7, 'C': 88, 'D': 0}\n",
      "97\n"
     ]
    }
   ],
   "source": [
    "num = {\n",
    "    \"A\" : 2,\n",
    "    \"B \" : 7,\n",
    "    \"C\" : 88,\n",
    "    \"D\" : 0\n",
    "}\n",
    "print(num)\n",
    "print(sum(num.values()))"
   ]
  },
  {
   "cell_type": "code",
   "execution_count": 38,
   "metadata": {},
   "outputs": [
    {
     "name": "stdout",
     "output_type": "stream",
     "text": [
      "[20, 30, 40, 50, 15, 11]\n"
     ]
    }
   ],
   "source": [
    "my_list = [20,30,20,30,40,50,15,11,20,40,50,15]\n",
    "dub_val = []\n",
    "for x in my_list:\n",
    "    if x not in dub_val:\n",
    "        dub_val.append(x)\n",
    "print(dub_val)"
   ]
  },
  {
   "cell_type": "code",
   "execution_count": 47,
   "metadata": {},
   "outputs": [
    {
     "name": "stdout",
     "output_type": "stream",
     "text": [
      "Key is present and value of the key is:\n",
      "Azam Nagar Liaquatabad Karachi.\n"
     ]
    }
   ],
   "source": [
    "my_data = {\n",
    "    \"First Name\" : \"Rabbia\",\n",
    "    \"Father Name\" : \"Anwar Ahmed\",\n",
    "    \"D.O.B\" : \"02-November-1996\",\n",
    "    \"Address\" : \"Azam Nagar Liaquatabad Karachi.\"\n",
    "}\n",
    "if 'Address' in my_data.keys():\n",
    "    print(\"Key is present and value of the key is:\")\n",
    "    print(my_data['Address'])\n",
    "else:\n",
    "      print(\"Key is not present!\")"
   ]
  },
  {
   "cell_type": "code",
   "execution_count": 48,
   "metadata": {},
   "outputs": [
    {
     "name": "stdout",
     "output_type": "stream",
     "text": [
      "Enter key to check:D.O.B\n",
      "Key is present and value of the key is:\n",
      "02-November-1996\n"
     ]
    }
   ],
   "source": [
    "my_data = {\n",
    "    \"First Name\" : \"Rabbia\",\n",
    "    \"Father Name\" : \"Anwar Ahmed\",\n",
    "    \"D.O.B\" : \"02-November-1996\",\n",
    "    \"Address\" : \"Azam Nagar Liaquatabad Karachi.\"\n",
    "}\n",
    "key=input(\"Enter key to check:\")\n",
    "if key in my_data.keys():\n",
    "      print(\"Key is present and value of the key is:\")\n",
    "      print(my_data[key])\n",
    "else:\n",
    "      print(\"Key isn't present!\")"
   ]
  }
 ],
 "metadata": {
  "kernelspec": {
   "display_name": "Python 3",
   "language": "python",
   "name": "python3"
  },
  "language_info": {
   "codemirror_mode": {
    "name": "ipython",
    "version": 3
   },
   "file_extension": ".py",
   "mimetype": "text/x-python",
   "name": "python",
   "nbconvert_exporter": "python",
   "pygments_lexer": "ipython3",
   "version": "3.7.4"
  }
 },
 "nbformat": 4,
 "nbformat_minor": 2
}
