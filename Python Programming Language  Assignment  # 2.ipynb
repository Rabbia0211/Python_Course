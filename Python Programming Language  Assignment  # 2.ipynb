{
 "cells": [
  {
   "cell_type": "code",
   "execution_count": 6,
   "metadata": {},
   "outputs": [
    {
     "name": "stdout",
     "output_type": "stream",
     "text": [
      "Marksheet Program\n",
      "Enter Obtained English Marks : 85\n",
      "Enter Obtained Mathematics Marks : 65\n",
      "Enter Obtained Urdu Marks : 87\n",
      "Enter Obtained Physics Marks : 36\n",
      "Enter Obtained Islamiat Marks : 96\n",
      "Total Marks = 500, Obtained marks = 369\n",
      "Percentage = 73.8\n",
      "Grade : A\n"
     ]
    }
   ],
   "source": [
    "print(\"Marksheet Program\")\n",
    "English = int(input(\"Enter Obtained English Marks : \"))\n",
    "Mathematics = int(input(\"Enter Obtained Mathematics Marks : \"))\n",
    "Urdu = int(input(\"Enter Obtained Urdu Marks : \"))\n",
    "Physics = int(input(\"Enter Obtained Physics Marks : \"))\n",
    "Chemistery = int(input(\"Enter Obtained Islamiat Marks : \"))\n",
    "total = English + Mathematics + Urdu + Physics  + Chemistery\n",
    "print(\"Total Marks = 500, Obtained marks = \" + str(total))\n",
    "percentage = (total/500) * 100\n",
    "print(\"Percentage = \" + str(percentage))\n",
    "if percentage >= 80 and percentage < 100:\n",
    "    print(\"Grade : A+\")\n",
    "elif percentage >= 70 and percentage < 80:\n",
    "    print(\"Grade : A\")\n",
    "elif percentage >= 60 and percentage < 70:\n",
    "    print(\"Grade : B\")\n",
    "elif percentage >= 50 and percentage < 60:\n",
    "    print(\"Grade : C\")\n",
    "elif percentage >= 50 and percentage < 60:\n",
    "    print(\"Grade : D\")\n",
    "else:\n",
    "    print(\"Fail\")"
   ]
  },
  {
   "cell_type": "code",
   "execution_count": 9,
   "metadata": {},
   "outputs": [
    {
     "name": "stdout",
     "output_type": "stream",
     "text": [
      "Even/Odd Number Check Program\n",
      "Enter any number : 9\n",
      "9 is ODD number!\n"
     ]
    }
   ],
   "source": [
    "print(\"Even/Odd Number Check Program\")\n",
    "a = int(input(\"Enter any number : \"))\n",
    "if a%2==0:\n",
    "    print(a,\"is EVEN number!\")\n",
    "else:\n",
    "    print(a,\"is ODD number!\")"
   ]
  },
  {
   "cell_type": "code",
   "execution_count": 14,
   "metadata": {},
   "outputs": [
    {
     "name": "stdout",
     "output_type": "stream",
     "text": [
      "Lenght of the list is :  10\n"
     ]
    }
   ],
   "source": [
    "a=[5, 9, 99, 9, 8, 888, 565, 6, 6, 54]\n",
    "lenght_of_list= len(a)\n",
    "print(\"Lenght of the list is : \",len(a))"
   ]
  },
  {
   "cell_type": "code",
   "execution_count": 17,
   "metadata": {},
   "outputs": [
    {
     "name": "stdout",
     "output_type": "stream",
     "text": [
      "Sum of the list is :  1649\n"
     ]
    }
   ],
   "source": [
    "a=[5, 9, 99, 9, 8, 888, 565, 6, 6, 54]\n",
    "sum_of_list_values = sum(a)\n",
    "print(\"Sum of the list is : \", sum(a))"
   ]
  },
  {
   "cell_type": "code",
   "execution_count": 19,
   "metadata": {},
   "outputs": [
    {
     "name": "stdout",
     "output_type": "stream",
     "text": [
      "Largest value of the list is :  888\n"
     ]
    }
   ],
   "source": [
    "a=[5, 9, 99, 9, 8, 888, 565, 6, 6, 54]\n",
    "print(\"Largest value of the list is : \", max(a))"
   ]
  },
  {
   "cell_type": "code",
   "execution_count": 21,
   "metadata": {},
   "outputs": [
    {
     "name": "stdout",
     "output_type": "stream",
     "text": [
      "1\n",
      "2\n",
      "4\n",
      "1\n",
      "3\n"
     ]
    }
   ],
   "source": [
    "a=[5, 9, 99, 9, 8, 1, 2, 4, 1, 3, 888, 565, 6, 6, 54]\n",
    "for i in a:\n",
    "    if i<5:\n",
    "        print(i)"
   ]
  }
 ],
 "metadata": {
  "kernelspec": {
   "display_name": "Python 3",
   "language": "python",
   "name": "python3"
  },
  "language_info": {
   "codemirror_mode": {
    "name": "ipython",
    "version": 3
   },
   "file_extension": ".py",
   "mimetype": "text/x-python",
   "name": "python",
   "nbconvert_exporter": "python",
   "pygments_lexer": "ipython3",
   "version": "3.7.4"
  }
 },
 "nbformat": 4,
 "nbformat_minor": 2
}
