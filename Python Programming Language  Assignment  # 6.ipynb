{
 "cells": [
  {
   "cell_type": "code",
   "execution_count": 6,
   "metadata": {},
   "outputs": [
    {
     "name": "stdout",
     "output_type": "stream",
     "text": [
      "<class '__main__.Car'>\n",
      "Engine started\n",
      "2008\n"
     ]
    }
   ],
   "source": [
    "class Car:\n",
    "\n",
    "    # create class attributes\n",
    "    name = \"Corolla\"\n",
    "    company = \"Toyota\"\n",
    "    model = 2008\n",
    "    color = \"black\"\n",
    "    \n",
    "\n",
    "    # create class methods\n",
    "    def start(self):\n",
    "        print (\"Engine started\")\n",
    "\n",
    "    def stop(self):\n",
    "        print (\"Engine switched off\")\n",
    "        \n",
    "    def play(radio):\n",
    "        print(\"Radio played\")\n",
    "        \n",
    "# Creates car_a object of Car class\n",
    "car_a = Car()\n",
    "\n",
    "# Creates car_b object of car class\n",
    "car_b = Car()\n",
    "    \n",
    "# Creates car_c object of car class\n",
    "car_bc = Car()\n",
    "\n",
    "print(type(car_b))\n",
    "car_b.start()\n",
    "print(car_b.model)"
   ]
  }
 ],
 "metadata": {
  "kernelspec": {
   "display_name": "Python 3",
   "language": "python",
   "name": "python3"
  },
  "language_info": {
   "codemirror_mode": {
    "name": "ipython",
    "version": 3
   },
   "file_extension": ".py",
   "mimetype": "text/x-python",
   "name": "python",
   "nbconvert_exporter": "python",
   "pygments_lexer": "ipython3",
   "version": "3.7.4"
  }
 },
 "nbformat": 4,
 "nbformat_minor": 2
}
